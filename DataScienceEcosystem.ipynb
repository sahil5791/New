{
 "cells": [
  {
   "cell_type": "markdown",
   "id": "c361ba26-0b03-4d0f-b3b1-25259a0dbe9f",
   "metadata": {
    "tags": []
   },
   "source": [
    "# Data Science Tools and Ecosystem"
   ]
  },
  {
   "cell_type": "markdown",
   "id": "aa081521-f1fe-40dd-ab0b-c7a6c125627c",
   "metadata": {
    "tags": []
   },
   "source": [
    "## Intoduction ##\n",
    "*In this notebook, Data Science Tools and Ecosystem are summarized .This assignment is the part of IBM data science professional certification course availabele on coursera*"
   ]
  },
  {
   "cell_type": "markdown",
   "id": "4f650b3d-810a-4167-8764-21f1461e50e6",
   "metadata": {
    "tags": []
   },
   "source": [
    "**Ojectives of this notebook**\n",
    "\n",
    "* This notebook covers some of the popular languages that are used by data scientists.\n",
    "* This notebook covers some of the important libraries that are used by data scientists.\n",
    "* This notebook consist of some of the tools used for data science.\n",
    "* This notebook covers some of the basic arithmetic operations.\n"
   ]
  },
  {
   "cell_type": "markdown",
   "id": "65531cf5-b9a4-47ac-9bf6-582b8c49808c",
   "metadata": {
    "jupyter": {
     "source_hidden": true
    },
    "tags": []
   },
   "source": [
    "Some of the popular languages that Data Scientists use are\n",
    "\n",
    "1. Python: Python is the most popular language used by data scientists due to its versatility, ease of use, and availability of many libraries like Pandas, NumPy, Matplotlib, etc. It is also used for building machine learning models and data visualization.\n",
    "\n",
    "2. R: R is a language and environment for statistical computing and graphics. It has a rich set of packages for statistical analysis, data visualization, and machine learning.\n",
    "\n",
    "3. SQL: SQL is a domain-specific language used for managing relational databases. It is used for data manipulation, data cleaning, and data analysis.\n",
    "\n",
    "4. MATLAB: MATLAB is a high-level programming language used for scientific computing, including data analysis, visualization, and numerical computation.\n",
    "\n",
    "5. Java: Java is a general-purpose programming language widely used for building large-scale applications. It is also used for big data processing, machine learning, and data analysis.\n",
    "\n",
    "6. Scala: Scala is a general-purpose programming language that runs on the Java Virtual Machine (JVM). It is popular for distributed computing, big data processing, and building machine learning applications.\n",
    "\n",
    "7. Julia: Julia is a high-performance programming language designed for numerical and scientific computing. It has a syntax similar to MATLAB and is gaining popularity in the data science community.\n",
    "\n"
   ]
  },
  {
   "cell_type": "markdown",
   "id": "f5df4e52-7c1c-4e34-803f-a3e4735663a5",
   "metadata": {},
   "source": [
    "Data scientists use a variety of libraries in their work to perform data analysis, visualization, and machine learning tasks. Here are some popular libraries used by data scientists:\n",
    "\n",
    "1. NumPy: NumPy is a library for numerical computing in Python. It provides tools for working with arrays, matrices, and numerical operations.\n",
    "\n",
    "2. Pandas: Pandas is a library for data manipulation and analysis in Python. It provides tools for working with tabular data, time-series data, and data visualization.\n",
    "\n",
    "3. Matplotlib: Matplotlib is a library for creating static, animated, and interactive visualizations in Python. It provides tools for creating line plots, scatter plots, histograms, bar charts, and more.\n",
    "\n",
    "4. Seaborn: Seaborn is a library for data visualization in Python. It provides tools for creating statistical graphics, such as scatter plots, line plots, heatmaps, and more.\n",
    "\n",
    "5. Scikit-learn: Scikit-learn is a library for machine learning in Python. It provides tools for building and evaluating machine learning models, such as regression, classification, clustering, and more.\n",
    "\n",
    "6. TensorFlow: TensorFlow is an open-source platform for building and training machine learning models. It provides tools for building neural networks, deep learning, and other machine learning models.\n",
    "\n",
    "7. Keras: Keras is a high-level neural networks API written in Python. It provides a simple and fast way to build and train deep learning models.\n",
    "\n",
    "8. PyTorch: PyTorch is an open-source machine learning library written in Python. It provides tools for building and training neural networks, deep learning, and other machine learning models.\n"
   ]
  },
  {
   "cell_type": "markdown",
   "id": "022d6d00-49ed-4006-b26b-3c9ca079101c",
   "metadata": {},
   "source": [
    "|Data Science Tools|\n",
    "|---|\n",
    "|Jupyter Notebook|\n",
    "|R studio|\n",
    "|Spyder|"
   ]
  },
  {
   "cell_type": "markdown",
   "id": "cfb6a95c-d8fa-40cb-99d5-3688bad923aa",
   "metadata": {},
   "source": [
    "### Below are a few examples of evaluating arithmetic expressions in Python\n"
   ]
  },
  {
   "cell_type": "code",
   "execution_count": 6,
   "id": "b0fdef7b-fd61-4437-b867-c6f81c7772be",
   "metadata": {
    "tags": []
   },
   "outputs": [
    {
     "data": {
      "text/plain": [
       "2"
      ]
     },
     "execution_count": 6,
     "metadata": {},
     "output_type": "execute_result"
    }
   ],
   "source": [
    "# Addition\n",
    "1+1"
   ]
  },
  {
   "cell_type": "code",
   "execution_count": 3,
   "id": "d35e30c3-7d74-4ed3-93f1-96011b865625",
   "metadata": {},
   "outputs": [
    {
     "data": {
      "text/plain": [
       "5"
      ]
     },
     "execution_count": 3,
     "metadata": {},
     "output_type": "execute_result"
    }
   ],
   "source": [
    "# Subtraction\n",
    "10-5"
   ]
  },
  {
   "cell_type": "code",
   "execution_count": 4,
   "id": "ea5c9021-5c01-49b6-b320-04f7a57a58a3",
   "metadata": {},
   "outputs": [
    {
     "data": {
      "text/plain": [
       "25"
      ]
     },
     "execution_count": 4,
     "metadata": {},
     "output_type": "execute_result"
    }
   ],
   "source": [
    "# Multiplication\n",
    "5*5"
   ]
  },
  {
   "cell_type": "code",
   "execution_count": 5,
   "id": "ab263c0f-0436-48a9-afb3-cb7140b462fa",
   "metadata": {},
   "outputs": [
    {
     "data": {
      "text/plain": [
       "10.0"
      ]
     },
     "execution_count": 5,
     "metadata": {},
     "output_type": "execute_result"
    }
   ],
   "source": [
    "# Division\n",
    "100/10"
   ]
  },
  {
   "cell_type": "code",
   "execution_count": 7,
   "id": "47ee6cb0-c5ca-4dde-b137-e0b19e30616f",
   "metadata": {},
   "outputs": [
    {
     "data": {
      "text/plain": [
       "17"
      ]
     },
     "execution_count": 7,
     "metadata": {},
     "output_type": "execute_result"
    }
   ],
   "source": [
    "# This a simple arithmetic expression to mutiply then add integers\n",
    "\n",
    "(3*4)+5"
   ]
  },
  {
   "cell_type": "code",
   "execution_count": 8,
   "id": "cb8cfd35-4bee-4b76-bb79-356b4640de97",
   "metadata": {},
   "outputs": [
    {
     "data": {
      "text/plain": [
       "3.3333333333333335"
      ]
     },
     "execution_count": 8,
     "metadata": {},
     "output_type": "execute_result"
    }
   ],
   "source": [
    "# This will convert 200 minutes to hours by diving by 60.\n",
    "200/60"
   ]
  },
  {
   "cell_type": "markdown",
   "id": "fb605511-cdb5-4e53-9f0a-e0b5e67b18dc",
   "metadata": {},
   "source": [
    "## Author \n",
    "Sahil Walke"
   ]
  },
  {
   "cell_type": "code",
   "execution_count": null,
   "id": "b1c606b3-ba6f-4198-b63a-eef3cfa9b73d",
   "metadata": {},
   "outputs": [],
   "source": []
  }
 ],
 "metadata": {
  "kernelspec": {
   "display_name": "Python",
   "language": "python",
   "name": "conda-env-python-py"
  },
  "language_info": {
   "codemirror_mode": {
    "name": "ipython",
    "version": 3
   },
   "file_extension": ".py",
   "mimetype": "text/x-python",
   "name": "python",
   "nbconvert_exporter": "python",
   "pygments_lexer": "ipython3",
   "version": "3.7.12"
  }
 },
 "nbformat": 4,
 "nbformat_minor": 5
}
