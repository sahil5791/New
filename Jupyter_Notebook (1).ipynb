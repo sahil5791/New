{
 "cells": [
  {
   "cell_type": "markdown",
   "metadata": {},
   "source": [
    "<center>\n",
    "    <img src=\"https://cf-courses-data.s3.us.cloud-object-storage.appdomain.cloud/IBMDeveloperSkillsNetwork-DS0105EN-SkillsNetwork/labs/Module2/images/SN_web_lightmode.png\" width=\"300\" alt=\"cognitiveclass.ai logo\">\n",
    "</center>\n"
   ]
  },
  {
   "cell_type": "markdown",
   "metadata": {},
   "source": [
    "#### Add your code below following the instructions given in the course\n"
   ]
  },
  {
   "cell_type": "markdown",
   "metadata": {},
   "source": [
    "### My Jupyter Notebook on IBM Watson Studio"
   ]
  },
  {
   "cell_type": "markdown",
   "metadata": {},
   "source": [
    "## Name - **Sahil Walke**\n",
    "Looking for a professional role in Data Science"
   ]
  },
  {
   "cell_type": "markdown",
   "metadata": {},
   "source": [
    "*I am looking for a role in data science beacuse the field of data science is growing rapidly and is in high demand: With the explosion of data in the digital age, businesses and organizations are increasingly relying on data scientists to analyze and interpret data to inform decision-making. Data science can help solve complex problems: Data scientists use statistical and computational methods to extract insights from complex data sets, which can be used to solve challenging problems across a wide range of fields, such as healthcare, finance, and social science.*"
   ]
  },
  {
   "cell_type": "markdown",
   "metadata": {},
   "source": [
    "### The code in cell below is for simple addition of 1+1"
   ]
  },
  {
   "cell_type": "code",
   "execution_count": 1,
   "metadata": {},
   "outputs": [
    {
     "data": {
      "text/plain": [
       "2"
      ]
     },
     "execution_count": 1,
     "metadata": {},
     "output_type": "execute_result"
    }
   ],
   "source": [
    "1+1"
   ]
  },
  {
   "cell_type": "markdown",
   "metadata": {},
   "source": [
    "*** Resaons why one should do data science :\n",
    "- The field of data science is growing rapidly and is in high demand: With the explosion of data in the digital age, businesses and organizations are increasingly relying on data scientists to analyze and interpret data to inform decision-making.\n",
    "\n",
    "- Data science can help solve complex problems: Data scientists use statistical and computational methods to extract insights from complex data sets, which can be used to solve challenging problems across a wide range of fields, such as healthcare, finance, and social science.\n",
    "\n",
    "- Data science offers opportunities for creativity and innovation: Data scientists often need to be creative in their approaches to analyzing data and finding solutions to problems. This can be an exciting and fulfilling aspect of the field.\n",
    "\n",
    "- Data science can lead to high-paying and rewarding careers: Data scientists are in high demand, and as such, they can command high salaries and often have opportunities for career advancement.\n",
    "\n",
    "*** Best certificate available online for learning data science is [IBM IBM Data Science Professional Certificate]<https://www.coursera.org/professional-certificates/ibm-data-science>. This course is available on coursera \n",
    "\n",
    "![image.png]<attachment:image.png>\n"
   ]
  },
  {
   "cell_type": "code",
   "execution_count": null,
   "metadata": {},
   "outputs": [],
   "source": []
  }
 ],
 "metadata": {
  "kernelspec": {
   "display_name": "Python",
   "language": "python",
   "name": "conda-env-python-py"
  },
  "language_info": {
   "codemirror_mode": {
    "name": "ipython",
    "version": 3
   },
   "file_extension": ".py",
   "mimetype": "text/x-python",
   "name": "python",
   "nbconvert_exporter": "python",
   "pygments_lexer": "ipython3",
   "version": "3.7.12"
  }
 },
 "nbformat": 4,
 "nbformat_minor": 4
}
